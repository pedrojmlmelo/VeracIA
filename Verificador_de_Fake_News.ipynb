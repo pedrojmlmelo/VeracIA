{
  "nbformat": 4,
  "nbformat_minor": 0,
  "metadata": {
    "colab": {
      "provenance": [],
      "authorship_tag": "ABX9TyM6ThxfmItI2i7e+nsdtwkw",
      "include_colab_link": true
    },
    "kernelspec": {
      "name": "python3",
      "display_name": "Python 3"
    },
    "language_info": {
      "name": "python"
    }
  },
  "cells": [
    {
      "cell_type": "markdown",
      "metadata": {
        "id": "view-in-github",
        "colab_type": "text"
      },
      "source": [
        "<a href=\"https://colab.research.google.com/github/pedrojmlmelo/VeracIA/blob/main/Verificador_de_Fake_News.ipynb\" target=\"_parent\"><img src=\"https://colab.research.google.com/assets/colab-badge.svg\" alt=\"Open In Colab\"/></a>"
      ]
    },
    {
      "cell_type": "code",
      "execution_count": null,
      "metadata": {
        "id": "OMOzhTYOhhG1"
      },
      "outputs": [],
      "source": [
        "%pip -q install google-genai"
      ]
    },
    {
      "cell_type": "code",
      "source": [
        "# Configura a API Key do Google Gemini\n",
        "\n",
        "import os\n",
        "from google.colab import userdata\n",
        "\n",
        "os.environ[\"GOOGLE_API_KEY\"] = userdata.get('GOOGLE_API_KEY')"
      ],
      "metadata": {
        "id": "nqtKIAFHhkNt"
      },
      "execution_count": null,
      "outputs": []
    },
    {
      "cell_type": "code",
      "source": [
        "# Configura o cliente da SDK do Gemini\n",
        "\n",
        "from google import genai\n",
        "\n",
        "client = genai.Client()\n",
        "\n",
        "MODEL_ID = \"gemini-2.0-flash\""
      ],
      "metadata": {
        "id": "k-45n48mhktd"
      },
      "execution_count": null,
      "outputs": []
    },
    {
      "cell_type": "code",
      "source": [
        "# Instalar Framework ADK de agentes do Google ################################################\n",
        "!pip install -q google-adk"
      ],
      "metadata": {
        "collapsed": true,
        "id": "yedg9yXChque"
      },
      "execution_count": null,
      "outputs": []
    },
    {
      "cell_type": "code",
      "source": [
        "from google.adk.agents import Agent\n",
        "from google.adk.runners import Runner\n",
        "from google.adk.sessions import InMemorySessionService\n",
        "from google.adk.tools import google_search\n",
        "from google.genai import types  # Para criar conteúdos (Content e Part)\n",
        "from datetime import date\n",
        "import textwrap # Para formatar melhor a saída de texto\n",
        "from IPython.display import display, Markdown # Para exibir texto formatado no Colab\n",
        "import requests # Para fazer requisições HTTP\n",
        "import warnings\n",
        "\n",
        "warnings.filterwarnings(\"ignore\")"
      ],
      "metadata": {
        "id": "du7aUkmkkEG9"
      },
      "execution_count": null,
      "outputs": []
    },
    {
      "cell_type": "code",
      "source": [
        "# Função auxiliar que envia uma mensagem para um agente via Runner e retorna a resposta final\n",
        "def call_agent(agent: Agent, message_text: str) -> str:\n",
        "    # Cria um serviço de sessão em memória\n",
        "    session_service = InMemorySessionService()\n",
        "    # Cria uma nova sessão (você pode personalizar os IDs conforme necessário)\n",
        "    session = session_service.create_session(app_name=agent.name, user_id=\"user1\", session_id=\"session1\")\n",
        "    # Cria um Runner para o agente\n",
        "    runner = Runner(agent=agent, app_name=agent.name, session_service=session_service)\n",
        "    # Cria o conteúdo da mensagem de entrada\n",
        "    content = types.Content(role=\"user\", parts=[types.Part(text=message_text)])\n",
        "\n",
        "    final_response = \"\"\n",
        "    # Itera assincronamente pelos eventos retornados durante a execução do agente\n",
        "    for event in runner.run(user_id=\"user1\", session_id=\"session1\", new_message=content):\n",
        "        if event.is_final_response():\n",
        "          for part in event.content.parts:\n",
        "            if part.text is not None:\n",
        "              final_response += part.text\n",
        "              final_response += \"\\n\"\n",
        "    return final_response"
      ],
      "metadata": {
        "id": "c3Ecuh98kGbF"
      },
      "execution_count": null,
      "outputs": []
    },
    {
      "cell_type": "code",
      "source": [
        "# Função auxiliar para exibir texto formatado em Markdown no Colab\n",
        "def to_markdown(text):\n",
        "  text = text.replace('•', '  *')\n",
        "  return Markdown(textwrap.indent(text, '> ', predicate=lambda _: True))"
      ],
      "metadata": {
        "id": "ePMvcHdqkKNc"
      },
      "execution_count": null,
      "outputs": []
    },
    {
      "cell_type": "code",
      "source": [
        "##########################################\n",
        "# --- Agente 1: Verificador de Fonte --- #\n",
        "##########################################\n",
        "\n",
        "def agente_verificador_fonte(url) :\n",
        "  fonte = Agent(\n",
        "      name = \"agente_verificador_fonte\",\n",
        "      model = \"gemini-2.0-flash\",\n",
        "      instruction = \"\"\"\n",
        "            Você é um especialista em análise de credibilidade de fontes de notícias na internet.\n",
        "            Sua tarefa é avaliar a confiabilidade da fonte com base na URL fornecida.\n",
        "            Considere fatores como: reputação do domínio, se é conhecido por espalhar desinformação,\n",
        "            se possui uma linha editorial clara, transparência sobre autores e propriedade.\n",
        "            Seja conciso e direto na sua avaliação.\n",
        "      \"\"\",\n",
        "      description = \"Agente que verifica a fonte da noticia\",\n",
        "      tools = [google_search]\n",
        ")\n",
        "\n",
        "  entrada_agente_verificador_fonte = f\"Url: {url}\\n\"\n",
        "  # Executa o agente\n",
        "  fonte_verificada = call_agent(fonte, entrada_agente_verificador_fonte)\n",
        "  return fonte_verificada\n"
      ],
      "metadata": {
        "id": "6_rB48jxkMxm"
      },
      "execution_count": null,
      "outputs": []
    },
    {
      "cell_type": "code",
      "source": [
        "##########################################\n",
        "# --- Agente 2: Analisador de Conteudo --- #\n",
        "##########################################\n",
        "\n",
        "def agente_analisador_conteudo(fonte_verificada) :\n",
        "  conteudo = Agent(\n",
        "      name = \"agente_analisador_conteudo\",\n",
        "      model = \"gemini-2.0-flash\",\n",
        "      instruction = \"\"\"\n",
        "            \"Você é um especialista em identificar técnicas de desinformação e manipulação em textos. \"\n",
        "            \"Analise o texto da notícia fornecida e aponte possíveis sinais de alerta, como: \"\n",
        "            \"linguagem excessivamente emocional ou alarmista, generalizações apressadas, \"\n",
        "            \"falta de fontes ou evidências concretas, apelo a teorias da conspiração, \"\n",
        "            \"erros grosseiros de português ou formatação que sugiram falta de profissionalismo, \"\n",
        "            \"ou alegações extraordinárias sem provas extraordinárias. Seja objetivo.\n",
        "      \"\"\",\n",
        "      description = \"Agente que analisa o conteudo da noticia\",\n",
        "      tools = [google_search]\n",
        ")\n",
        "\n",
        "  entrada_agente_analisador_conteudo = fonte_verificada\n",
        "  # Executa o agente\n",
        "  conteudo_analisado = call_agent(conteudo, entrada_agente_analisador_conteudo)\n",
        "  return conteudo_analisado"
      ],
      "metadata": {
        "id": "FziMi9tHqZX6"
      },
      "execution_count": null,
      "outputs": []
    },
    {
      "cell_type": "code",
      "source": [
        "##########################################\n",
        "# --- Agente 3: Checagem cruzada --- #\n",
        "##########################################\n",
        "\n",
        "def agente_checagem_cruzada(conteudo_analisado) :\n",
        "  cruzada = Agent(\n",
        "      name = \"agente_checagem_cruzada\",\n",
        "      model = \"gemini-2.0-flash\",\n",
        "      instruction = \"\"\"\n",
        "            \"Você é um assistente de checagem de fatos (fact-checker) muito rigoroso. \"\n",
        "            \"Sua tarefa é verificar a veracidade das principais alegações contidas no texto da notícia. \"\n",
        "            \"Use seu conhecimento para buscar informações que corroborem ou contradigam essas alegações. \"\n",
        "            \"Mencione se há consenso sobre o tema, se é uma informação disputada ou se é amplamente considerada falsa. \"\n",
        "            \"Se a notícia for sobre um evento muito recente ou obscuro, admita se não encontrar informações. \"\n",
        "            \"Indique fontes confiáveis se possível (conceitualmente, você não navega na web em tempo real, mas use seu conhecimento)\n",
        "      \"\"\",\n",
        "      description = \"Agente que faz a analise cruzada\",\n",
        "      tools = [google_search]\n",
        ")\n",
        "\n",
        "  entrada_agente_checagem_cruzada = conteudo_analisado\n",
        "  # Executa o agente\n",
        "  cruzada_analisado = call_agent(cruzada, entrada_agente_checagem_cruzada)\n",
        "  return cruzada_analisado"
      ],
      "metadata": {
        "id": "dAy_FgDTsBCq"
      },
      "execution_count": null,
      "outputs": []
    },
    {
      "cell_type": "code",
      "source": [
        "##########################################\n",
        "# --- Agente 4: Sintetizador --- #\n",
        "##########################################\n",
        "\n",
        "def agente_sintetizador(cruzada_analisado) :\n",
        "  sintetizador = Agent(\n",
        "      name = \"agente_sintetizador\",\n",
        "      model = \"gemini-2.0-flash\",\n",
        "      instruction = \"\"\"\n",
        "            \"Você é um assistente de IA sênior encarregado de consolidar as análises de outros agentes de IA \"\n",
        "            \"para fornecer um parecer final sobre a probabilidade de uma notícia ser fake news. \"\n",
        "            \"Considere todos os relatórios: coleta de dados, análise da fonte, análise do conteúdo e checagem cruzada. \"\n",
        "            \"Seu parecer deve ser claro, indicar um nível de confiança (ex: 'Alta probabilidade de ser fake news', \"\n",
        "            \"'Potencialmente enganosa', 'Informação parece precisa', 'Inconclusivo') e \"\n",
        "            \"justificar brevemente com base nos pontos mais críticos dos relatórios.\"\n",
        "            \"Seja cauteloso e equilibrado em seu julgamento.\"\n",
        "            \"Sua resposta deve conter no final uma nota que classifique entre:\n",
        "            'Alta probabilidade de ser fake news',\n",
        "            'Potencialmente enganosa',\n",
        "            'Informação parece precisa',\n",
        "            'Inconclusivo'\n",
        "      \"\"\",\n",
        "      description = \"Agente que faz a sintetização\",\n",
        "      tools = [google_search]\n",
        ")\n",
        "\n",
        "  entrada_agente_sintetizador = cruzada_analisado\n",
        "  # Executa o agente\n",
        "  sintetizada_analisado = call_agent(sintetizador, entrada_agente_sintetizador)\n",
        "  return sintetizada_analisado"
      ],
      "metadata": {
        "id": "4VqfLhC7tR0H"
      },
      "execution_count": null,
      "outputs": []
    },
    {
      "cell_type": "code",
      "source": [
        "# --- Obter a URL do Usuário ---\n",
        "url = input(\"Por favor, digite a url da noticia: \")\n",
        "\n",
        "\n",
        "fonte_check = agente_verificador_fonte(url)\n",
        "# print(\"\\n--- resultados agente 1 ---\")\n",
        "# display(to_markdown(fonte_check))\n",
        "# print(\"--------------------\")\n",
        "\n",
        "conteudo_check = agente_analisador_conteudo(fonte_check)\n",
        "# print(\"\\n--- resultados agente 2 ---\")\n",
        "# display(to_markdown(conteudo_check))\n",
        "# print(\"--------------------\")\n",
        "\n",
        "cruzada_check = agente_checagem_cruzada(conteudo_check)\n",
        "# print(\"\\n--- resultados agente 3 ---\")\n",
        "# display(to_markdown(cruzada_check))\n",
        "# print(\"--------------------\")\n",
        "\n",
        "sintetizador_check = agente_sintetizador(cruzada_check)\n",
        "print(\"\\n--- resultados agente 4 ---\")\n",
        "display(to_markdown(sintetizador_check))\n",
        "print(\"--------------------\")"
      ],
      "metadata": {
        "collapsed": true,
        "id": "_9Mr10NhogH9"
      },
      "execution_count": null,
      "outputs": []
    },
    {
      "cell_type": "code",
      "source": [],
      "metadata": {
        "id": "BaVEApHvnxEF"
      },
      "execution_count": null,
      "outputs": []
    }
  ]
}